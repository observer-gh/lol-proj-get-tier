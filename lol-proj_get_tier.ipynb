{
 "cells": [
  {
   "cell_type": "code",
   "execution_count": 3,
   "metadata": {},
   "outputs": [],
   "source": [
    "import requests\n",
    "from tqdm import tqdm_notebook\n"
   ]
  },
  {
   "cell_type": "code",
   "execution_count": 4,
   "metadata": {},
   "outputs": [],
   "source": [
    "API_KEY = \"RGAPI-ba834a44-f556-4451-adac-88b09fe10f77\""
   ]
  },
  {
   "cell_type": "code",
   "execution_count": 5,
   "metadata": {},
   "outputs": [],
   "source": [
    "def make_url_for_summonerinfo_with_summonername(summoner_name):\n",
    "    return f\"https://kr.api.riotgames.com/lol/summoner/v4/summoners/by-name/{summoner_name}?api_key={API_KEY}\"\n",
    "def make_url_for_matches_with_gameId(match_id):\n",
    "    return f\"https://kr.api.riotgames.com/lol/match/v4/matches/{match_id}?api_key={API_KEY}\"\n",
    "def make_url_for_matchlist_with_accountId(accountId): # modified for endIndex 2\n",
    "    return f\"https://kr.api.riotgames.com/lol/match/v4/matchlists/by-account/{accountId}?endIndex=2&api_key={API_KEY}\"\n",
    "\n",
    "\n",
    "    "
   ]
  },
  {
   "cell_type": "code",
   "execution_count": 6,
   "metadata": {},
   "outputs": [],
   "source": [
    "def get_summoner_id(summoner_name):\n",
    "    A = requests.get(make_url_for_summonerinfo_with_summonername(summoner_name)) # A is summonerinfo\n",
    "    return A.json()['id']\n",
    "    "
   ]
  },
  {
   "cell_type": "code",
   "execution_count": 7,
   "metadata": {},
   "outputs": [],
   "source": [
    "def get_account_id(summoner_name):\n",
    "    A = requests.get(make_url_for_summonerinfo_with_summonername(summoner_name))\n",
    "    return A.json()['accountId']"
   ]
  },
  {
   "cell_type": "code",
   "execution_count": 8,
   "metadata": {},
   "outputs": [],
   "source": [
    "def get_gameIdlist_by_summonername(summoner_name):\n",
    "    account_id = get_account_id(summoner_name)\n",
    "    url = make_url_for_matchlist_with_accountId(account_id)\n",
    "    J = requests.get(url).json() # matchlist from API\n",
    "    gameId_list = [ x['gameId'] for x in J['matches'] ]\n",
    "    return gameId_list\n",
    "    "
   ]
  },
  {
   "cell_type": "code",
   "execution_count": 9,
   "metadata": {},
   "outputs": [],
   "source": [
    "def get_matchinfo_by_gameId(game_id): #sample. matchlist is a []\n",
    "    url = make_url_for_matches_with_gameId(game_id)\n",
    "    J = requests.get(url).json()\n",
    "    return J # matchDto type\n",
    "#      match_ids\n",
    "#      match_infos = [get_match_info_by_matchid(matchid) \n",
    "#                     for matchid in matchids]\n"
   ]
  },
  {
   "cell_type": "code",
   "execution_count": 10,
   "metadata": {},
   "outputs": [],
   "source": [
    "def get_participantId_from_matchDto(matchDto, summoner_name): #takes a single matchDto, not a list of it\n",
    "        identities = matchDto['participantIdentities'] # List[{} x 10]\n",
    "        for x in identities:\n",
    "            if x['player']['summonerName'].lower() == summoner_name.lower():\n",
    "                return int(x['participantId']) #returns an integer 1~10       "
   ]
  },
  {
   "cell_type": "code",
   "execution_count": 11,
   "metadata": {},
   "outputs": [],
   "source": [
    "def get_matchdata_by_summonername(summoner_name): # this is the main function for getting player raw stats\n",
    "    matchlist = get_gameIdlist_by_summonername(summoner_name) #List[gameId]\n",
    "    matchinfos = [get_matchinfo_by_gameId(x) \n",
    "                  for x in tqdm_notebook(matchlist)] # List[matchDto] type\n",
    "    correctIds = [get_participantId_from_matchDto(x, summoner_name) for x in matchinfos] # List[int] contains correct ids in order\n",
    "    pair = zip(matchinfos, correctIds) # a tuple of match and its correctId\n",
    "    stats = [ matchDto['participants'][int(correctId)-1]['stats'] for (matchDto,correctId) in pair]\n",
    "    \n",
    "    return stats\n",
    "    "
   ]
  },
  {
   "cell_type": "code",
   "execution_count": 12,
   "metadata": {},
   "outputs": [],
   "source": [
    "def get_kda_from_stats(stats):\n",
    "    kill = sum([x['kills'] for x in stats])\n",
    "    death = sum([x['deaths'] for x in stats])\n",
    "    assists = sum([x['assists'] for x in stats])\n",
    "    \n",
    "    return (kill+death)/assists\n",
    "\n",
    "# add more functions"
   ]
  },
  {
   "cell_type": "code",
   "execution_count": 13,
   "metadata": {},
   "outputs": [],
   "source": [
    "def get_player_statistics_by_summonername(summoner_name, option):\n",
    "    stats = get_matchdata_by_summonername(summoner_name)\n",
    "    \n",
    "    if option.lower() == 'kda':\n",
    "        return get_kda_from_stats(stats)\n",
    "    \n",
    "    # add more functions"
   ]
  },
  {
   "cell_type": "code",
   "execution_count": 14,
   "metadata": {},
   "outputs": [
    {
     "data": {
      "application/vnd.jupyter.widget-view+json": {
       "model_id": "8457b2ec53ef4b219017597c0c968a77",
       "version_major": 2,
       "version_minor": 0
      },
      "text/plain": [
       "HBox(children=(IntProgress(value=0, max=2), HTML(value='')))"
      ]
     },
     "metadata": {},
     "output_type": "display_data"
    },
    {
     "name": "stdout",
     "output_type": "stream",
     "text": [
      "\n"
     ]
    },
    {
     "data": {
      "text/plain": [
       "1.0666666666666667"
      ]
     },
     "execution_count": 14,
     "metadata": {},
     "output_type": "execute_result"
    }
   ],
   "source": [
    "get_player_statistics_by_summonername(\"iro kkyul\", 'kda')"
   ]
  },
  {
   "cell_type": "code",
   "execution_count": 15,
   "metadata": {},
   "outputs": [
    {
     "data": {
      "application/vnd.jupyter.widget-view+json": {
       "model_id": "75d9356637cb4d9d882b6aad3d205803",
       "version_major": 2,
       "version_minor": 0
      },
      "text/plain": [
       "HBox(children=(IntProgress(value=0, max=2), HTML(value='')))"
      ]
     },
     "metadata": {},
     "output_type": "display_data"
    },
    {
     "name": "stdout",
     "output_type": "stream",
     "text": [
      "\n"
     ]
    },
    {
     "data": {
      "text/plain": [
       "[{'participantId': 7,\n",
       "  'win': False,\n",
       "  'item0': 3069,\n",
       "  'item1': 2420,\n",
       "  'item2': 1052,\n",
       "  'item3': 3117,\n",
       "  'item4': 1006,\n",
       "  'item5': 2055,\n",
       "  'item6': 3364,\n",
       "  'kills': 1,\n",
       "  'deaths': 5,\n",
       "  'assists': 3,\n",
       "  'largestKillingSpree': 0,\n",
       "  'largestMultiKill': 1,\n",
       "  'killingSprees': 0,\n",
       "  'longestTimeSpentLiving': 460,\n",
       "  'doubleKills': 0,\n",
       "  'tripleKills': 0,\n",
       "  'quadraKills': 0,\n",
       "  'pentaKills': 0,\n",
       "  'unrealKills': 0,\n",
       "  'totalDamageDealt': 15588,\n",
       "  'magicDamageDealt': 10896,\n",
       "  'physicalDamageDealt': 1316,\n",
       "  'trueDamageDealt': 3376,\n",
       "  'largestCriticalStrike': 0,\n",
       "  'totalDamageDealtToChampions': 3790,\n",
       "  'magicDamageDealtToChampions': 3259,\n",
       "  'physicalDamageDealtToChampions': 275,\n",
       "  'trueDamageDealtToChampions': 256,\n",
       "  'totalHeal': 533,\n",
       "  'totalUnitsHealed': 1,\n",
       "  'damageSelfMitigated': 4016,\n",
       "  'damageDealtToObjectives': 0,\n",
       "  'damageDealtToTurrets': 0,\n",
       "  'visionScore': 18,\n",
       "  'timeCCingOthers': 54,\n",
       "  'totalDamageTaken': 6939,\n",
       "  'magicalDamageTaken': 1021,\n",
       "  'physicalDamageTaken': 5778,\n",
       "  'trueDamageTaken': 140,\n",
       "  'goldEarned': 4087,\n",
       "  'goldSpent': 4110,\n",
       "  'turretKills': 0,\n",
       "  'inhibitorKills': 0,\n",
       "  'totalMinionsKilled': 10,\n",
       "  'neutralMinionsKilled': 0,\n",
       "  'neutralMinionsKilledTeamJungle': 0,\n",
       "  'neutralMinionsKilledEnemyJungle': 0,\n",
       "  'totalTimeCrowdControlDealt': 158,\n",
       "  'champLevel': 8,\n",
       "  'visionWardsBoughtInGame': 5,\n",
       "  'sightWardsBoughtInGame': 0,\n",
       "  'wardsPlaced': 8,\n",
       "  'wardsKilled': 2,\n",
       "  'firstBloodKill': False,\n",
       "  'firstBloodAssist': False,\n",
       "  'firstTowerKill': False,\n",
       "  'firstTowerAssist': False,\n",
       "  'combatPlayerScore': 0,\n",
       "  'objectivePlayerScore': 0,\n",
       "  'totalPlayerScore': 0,\n",
       "  'totalScoreRank': 0,\n",
       "  'playerScore0': 0,\n",
       "  'playerScore1': 0,\n",
       "  'playerScore2': 0,\n",
       "  'playerScore3': 0,\n",
       "  'playerScore4': 0,\n",
       "  'playerScore5': 0,\n",
       "  'playerScore6': 0,\n",
       "  'playerScore7': 0,\n",
       "  'playerScore8': 0,\n",
       "  'playerScore9': 0,\n",
       "  'perk0': 8439,\n",
       "  'perk0Var1': 0,\n",
       "  'perk0Var2': 0,\n",
       "  'perk0Var3': 0,\n",
       "  'perk1': 8446,\n",
       "  'perk1Var1': 0,\n",
       "  'perk1Var2': 0,\n",
       "  'perk1Var3': 0,\n",
       "  'perk2': 8473,\n",
       "  'perk2Var1': 206,\n",
       "  'perk2Var2': 0,\n",
       "  'perk2Var3': 0,\n",
       "  'perk3': 8453,\n",
       "  'perk3Var1': 50,\n",
       "  'perk3Var2': 0,\n",
       "  'perk3Var3': 0,\n",
       "  'perk4': 8306,\n",
       "  'perk4Var1': 1,\n",
       "  'perk4Var2': 0,\n",
       "  'perk4Var3': 0,\n",
       "  'perk5': 8345,\n",
       "  'perk5Var1': 4,\n",
       "  'perk5Var2': 0,\n",
       "  'perk5Var3': 0,\n",
       "  'perkPrimaryStyle': 8400,\n",
       "  'perkSubStyle': 8300,\n",
       "  'statPerk0': 5008,\n",
       "  'statPerk1': 5002,\n",
       "  'statPerk2': 5001},\n",
       " {'participantId': 2,\n",
       "  'win': True,\n",
       "  'item0': 2031,\n",
       "  'item1': 3030,\n",
       "  'item2': 3905,\n",
       "  'item3': 3136,\n",
       "  'item4': 3111,\n",
       "  'item5': 1026,\n",
       "  'item6': 3340,\n",
       "  'kills': 2,\n",
       "  'deaths': 3,\n",
       "  'assists': 14,\n",
       "  'largestKillingSpree': 2,\n",
       "  'largestMultiKill': 1,\n",
       "  'killingSprees': 1,\n",
       "  'longestTimeSpentLiving': 498,\n",
       "  'doubleKills': 0,\n",
       "  'tripleKills': 0,\n",
       "  'quadraKills': 0,\n",
       "  'pentaKills': 0,\n",
       "  'unrealKills': 0,\n",
       "  'totalDamageDealt': 133984,\n",
       "  'magicDamageDealt': 116288,\n",
       "  'physicalDamageDealt': 10979,\n",
       "  'trueDamageDealt': 6715,\n",
       "  'largestCriticalStrike': 0,\n",
       "  'totalDamageDealtToChampions': 13948,\n",
       "  'magicDamageDealtToChampions': 13201,\n",
       "  'physicalDamageDealtToChampions': 746,\n",
       "  'trueDamageDealtToChampions': 0,\n",
       "  'totalHeal': 1501,\n",
       "  'totalUnitsHealed': 1,\n",
       "  'damageSelfMitigated': 7415,\n",
       "  'damageDealtToObjectives': 5663,\n",
       "  'damageDealtToTurrets': 2741,\n",
       "  'visionScore': 33,\n",
       "  'timeCCingOthers': 53,\n",
       "  'totalDamageTaken': 13337,\n",
       "  'magicalDamageTaken': 4892,\n",
       "  'physicalDamageTaken': 6445,\n",
       "  'trueDamageTaken': 2000,\n",
       "  'goldEarned': 10503,\n",
       "  'goldSpent': 9350,\n",
       "  'turretKills': 2,\n",
       "  'inhibitorKills': 1,\n",
       "  'totalMinionsKilled': 180,\n",
       "  'neutralMinionsKilled': 20,\n",
       "  'neutralMinionsKilledTeamJungle': 16,\n",
       "  'neutralMinionsKilledEnemyJungle': 0,\n",
       "  'totalTimeCrowdControlDealt': 269,\n",
       "  'champLevel': 15,\n",
       "  'visionWardsBoughtInGame': 1,\n",
       "  'sightWardsBoughtInGame': 0,\n",
       "  'wardsPlaced': 11,\n",
       "  'wardsKilled': 5,\n",
       "  'firstBloodKill': False,\n",
       "  'firstBloodAssist': False,\n",
       "  'firstTowerKill': False,\n",
       "  'firstTowerAssist': False,\n",
       "  'firstInhibitorKill': True,\n",
       "  'firstInhibitorAssist': False,\n",
       "  'combatPlayerScore': 0,\n",
       "  'objectivePlayerScore': 0,\n",
       "  'totalPlayerScore': 0,\n",
       "  'totalScoreRank': 0,\n",
       "  'playerScore0': 0,\n",
       "  'playerScore1': 0,\n",
       "  'playerScore2': 0,\n",
       "  'playerScore3': 0,\n",
       "  'playerScore4': 0,\n",
       "  'playerScore5': 0,\n",
       "  'playerScore6': 0,\n",
       "  'playerScore7': 0,\n",
       "  'playerScore8': 0,\n",
       "  'playerScore9': 0,\n",
       "  'perk0': 8351,\n",
       "  'perk0Var1': 11,\n",
       "  'perk0Var2': 0,\n",
       "  'perk0Var3': 0,\n",
       "  'perk1': 8304,\n",
       "  'perk1Var1': 10,\n",
       "  'perk1Var2': 0,\n",
       "  'perk1Var3': 0,\n",
       "  'perk2': 8345,\n",
       "  'perk2Var1': 4,\n",
       "  'perk2Var2': 0,\n",
       "  'perk2Var3': 0,\n",
       "  'perk3': 8410,\n",
       "  'perk3Var1': 63,\n",
       "  'perk3Var2': 0,\n",
       "  'perk3Var3': 0,\n",
       "  'perk4': 8139,\n",
       "  'perk4Var1': 777,\n",
       "  'perk4Var2': 0,\n",
       "  'perk4Var3': 0,\n",
       "  'perk5': 8134,\n",
       "  'perk5Var1': 45,\n",
       "  'perk5Var2': 5,\n",
       "  'perk5Var3': 0,\n",
       "  'perkPrimaryStyle': 8300,\n",
       "  'perkSubStyle': 8100,\n",
       "  'statPerk0': 5008,\n",
       "  'statPerk1': 5008,\n",
       "  'statPerk2': 5003}]"
      ]
     },
     "execution_count": 15,
     "metadata": {},
     "output_type": "execute_result"
    }
   ],
   "source": [
    "get_matchdata_by_summonername('놀지말고공부하자')"
   ]
  },
  {
   "cell_type": "code",
   "execution_count": 16,
   "metadata": {},
   "outputs": [],
   "source": [
    "def get_tier_by_summonerId(summonerid):\n",
    "    url = f\"https://kr.api.riotgames.com/lol/league/v4/positions/by-summoner/{summonerid}?api_key={API_KEY}\"\n",
    "    J = requests.get(url).json()# tier etc text\n",
    "    return [J[0]['tier'], J[0]['rank']]\n",
    "\n",
    "def get_tier_by_summonername(summoner_name):\n",
    "    account_id = get_summoner_id(summoner_name) # 이름통일필요\n",
    "    tier = get_tier_by_summonerId(account_id)  \n",
    "    return tier"
   ]
  },
  {
   "cell_type": "code",
   "execution_count": 17,
   "metadata": {
    "scrolled": true
   },
   "outputs": [
    {
     "data": {
      "text/plain": [
       "['PLATINUM', 'I']"
      ]
     },
     "execution_count": 17,
     "metadata": {},
     "output_type": "execute_result"
    }
   ],
   "source": [
    "get_tier_by_summonerId(\"iUvqYWZL47XbrkiyYs3GAX4nyoYIejeA352lJQf2FDtiZg\")"
   ]
  },
  {
   "cell_type": "code",
   "execution_count": 18,
   "metadata": {
    "scrolled": true
   },
   "outputs": [
    {
     "data": {
      "text/plain": [
       "['GOLD', 'III']"
      ]
     },
     "execution_count": 18,
     "metadata": {},
     "output_type": "execute_result"
    }
   ],
   "source": [
    "get_tier_by_summonername(\"iro kkyul\")"
   ]
  },
  {
   "cell_type": "code",
   "execution_count": 19,
   "metadata": {},
   "outputs": [
    {
     "ename": "KeyError",
     "evalue": "'accountId'",
     "output_type": "error",
     "traceback": [
      "\u001b[0;31m---------------------------------------------------------------------------\u001b[0m",
      "\u001b[0;31mKeyError\u001b[0m                                  Traceback (most recent call last)",
      "\u001b[0;32m<ipython-input-19-03868f1106cb>\u001b[0m in \u001b[0;36m<module>\u001b[0;34m\u001b[0m\n\u001b[0;32m----> 1\u001b[0;31m \u001b[0mget_account_id\u001b[0m\u001b[0;34m(\u001b[0m\u001b[0;34m\"de4d presidents\"\u001b[0m\u001b[0;34m)\u001b[0m\u001b[0;34m\u001b[0m\u001b[0;34m\u001b[0m\u001b[0m\n\u001b[0m",
      "\u001b[0;32m<ipython-input-7-1c9be70abdcf>\u001b[0m in \u001b[0;36mget_account_id\u001b[0;34m(summoner_name)\u001b[0m\n\u001b[1;32m      1\u001b[0m \u001b[0;32mdef\u001b[0m \u001b[0mget_account_id\u001b[0m\u001b[0;34m(\u001b[0m\u001b[0msummoner_name\u001b[0m\u001b[0;34m)\u001b[0m\u001b[0;34m:\u001b[0m\u001b[0;34m\u001b[0m\u001b[0;34m\u001b[0m\u001b[0m\n\u001b[1;32m      2\u001b[0m     \u001b[0mA\u001b[0m \u001b[0;34m=\u001b[0m \u001b[0mrequests\u001b[0m\u001b[0;34m.\u001b[0m\u001b[0mget\u001b[0m\u001b[0;34m(\u001b[0m\u001b[0mmake_url_for_summonerinfo_with_summonername\u001b[0m\u001b[0;34m(\u001b[0m\u001b[0msummoner_name\u001b[0m\u001b[0;34m)\u001b[0m\u001b[0;34m)\u001b[0m\u001b[0;34m\u001b[0m\u001b[0;34m\u001b[0m\u001b[0m\n\u001b[0;32m----> 3\u001b[0;31m     \u001b[0;32mreturn\u001b[0m \u001b[0mA\u001b[0m\u001b[0;34m.\u001b[0m\u001b[0mjson\u001b[0m\u001b[0;34m(\u001b[0m\u001b[0;34m)\u001b[0m\u001b[0;34m[\u001b[0m\u001b[0;34m'accountId'\u001b[0m\u001b[0;34m]\u001b[0m\u001b[0;34m\u001b[0m\u001b[0;34m\u001b[0m\u001b[0m\n\u001b[0m",
      "\u001b[0;31mKeyError\u001b[0m: 'accountId'"
     ]
    }
   ],
   "source": [
    "get_account_id(\"de4d presidents\")"
   ]
  },
  {
   "cell_type": "code",
   "execution_count": null,
   "metadata": {},
   "outputs": [],
   "source": [
    "temp =         {\n",
    "            \"lane\": \"BOTTOM\",\n",
    "            \"gameId\": 3540135699,\n",
    "            \"champion\": 82,\n",
    "            \"platformId\": \"KR\",\n",
    "            \"timestamp\": 1549899182280,\n",
    "            \"queue\": 440,\n",
    "            \"role\": \"DUO_CARRY\",\n",
    "            \"season\": 11\n",
    "        }"
   ]
  },
  {
   "cell_type": "code",
   "execution_count": null,
   "metadata": {},
   "outputs": [],
   "source": [
    "get_matchinfo_by_gameId(3540135699)"
   ]
  },
  {
   "cell_type": "code",
   "execution_count": null,
   "metadata": {},
   "outputs": [],
   "source": [
    "get_account_id(\"de4d presidents\")"
   ]
  },
  {
   "cell_type": "code",
   "execution_count": null,
   "metadata": {},
   "outputs": [],
   "source": []
  }
 ],
 "metadata": {
  "kernelspec": {
   "display_name": "Python 3",
   "language": "python",
   "name": "python3"
  },
  "language_info": {
   "codemirror_mode": {
    "name": "ipython",
    "version": 3
   },
   "file_extension": ".py",
   "mimetype": "text/x-python",
   "name": "python",
   "nbconvert_exporter": "python",
   "pygments_lexer": "ipython3",
   "version": "3.7.1"
  }
 },
 "nbformat": 4,
 "nbformat_minor": 2
}
